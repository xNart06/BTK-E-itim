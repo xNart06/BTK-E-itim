{
 "cells": [
  {
   "cell_type": "markdown",
   "id": "c9d766d4",
   "metadata": {},
   "source": [
    "# Basic Calculator With Python\n"
   ]
  },
  {
   "cell_type": "code",
   "execution_count": 3,
   "id": "d2082231",
   "metadata": {},
   "outputs": [],
   "source": [
    "def calc(a,b,islem):\n",
    "    if islem == \"+\":\n",
    "        return (str(a)+\"+\"+str(b)+\"=\"+int(a+b))\n",
    "    elif islem == \"-\":\n",
    "        return (str(a)+\"-\"+str(b)+\"=\"+int(a-b))\n",
    "    elif islem == \"/\":\n",
    "        return (str(a)+\"/\"+str(b)+\"=\"+int(a/b))\n",
    "    else:\n",
    "        return (str(a)+\"*\"+str(b)+\"=\"+int(a*b))\n",
    "    "
   ]
  },
  {
   "cell_type": "code",
   "execution_count": 10,
   "id": "7b9e43fc",
   "metadata": {},
   "outputs": [
    {
     "name": "stdout",
     "output_type": "stream",
     "text": [
      "ilk sayi78\n",
      "ikinci sayi12\n",
      "/*-+-\n"
     ]
    },
    {
     "data": {
      "text/plain": [
       "'78-12=66'"
      ]
     },
     "execution_count": 10,
     "metadata": {},
     "output_type": "execute_result"
    }
   ],
   "source": [
    "a = int(input(\"ilk sayi\"))\n",
    "b = int(input(\"ikinci sayi\"))\n",
    "islem = input(\"/*-+\")\n",
    "calc(a,b,islem)"
   ]
  },
  {
   "cell_type": "code",
   "execution_count": null,
   "id": "f0094ca3",
   "metadata": {},
   "outputs": [],
   "source": []
  }
 ],
 "metadata": {
  "kernelspec": {
   "display_name": "Python 3 (ipykernel)",
   "language": "python",
   "name": "python3"
  },
  "language_info": {
   "codemirror_mode": {
    "name": "ipython",
    "version": 3
   },
   "file_extension": ".py",
   "mimetype": "text/x-python",
   "name": "python",
   "nbconvert_exporter": "python",
   "pygments_lexer": "ipython3",
   "version": "3.9.12"
  }
 },
 "nbformat": 4,
 "nbformat_minor": 5
}
