{
 "cells": [
  {
   "cell_type": "markdown",
   "id": "01115604",
   "metadata": {},
   "source": [
    "# Pandas "
   ]
  },
  {
   "cell_type": "code",
   "execution_count": 1,
   "id": "5b94b5de",
   "metadata": {},
   "outputs": [],
   "source": [
    "import numpy as np"
   ]
  },
  {
   "cell_type": "code",
   "execution_count": 2,
   "id": "cf3183da",
   "metadata": {},
   "outputs": [],
   "source": [
    "import pandas as pd"
   ]
  },
  {
   "cell_type": "markdown",
   "id": "18f7d109",
   "metadata": {},
   "source": [
    "### Seriler"
   ]
  },
  {
   "cell_type": "code",
   "execution_count": 3,
   "id": "3c653a7e",
   "metadata": {},
   "outputs": [],
   "source": [
    "myDict = {\"Ali\" : 50, \"Zeynep\" : 40, \"Fatma\" : 20}"
   ]
  },
  {
   "cell_type": "code",
   "execution_count": 5,
   "id": "55b5933c",
   "metadata": {},
   "outputs": [
    {
     "data": {
      "text/plain": [
       "Ali       50\n",
       "Zeynep    40\n",
       "Fatma     20\n",
       "dtype: int64"
      ]
     },
     "execution_count": 5,
     "metadata": {},
     "output_type": "execute_result"
    }
   ],
   "source": [
    "pd.Series(myDict) #seri oluşturduk"
   ]
  },
  {
   "cell_type": "code",
   "execution_count": 7,
   "id": "a67a5a6c",
   "metadata": {},
   "outputs": [],
   "source": [
    "myAges = [50,30,20]\n",
    "myNames = [\"Ali\",\"Zeynep\",\"Mehmet\"]"
   ]
  },
  {
   "cell_type": "code",
   "execution_count": 8,
   "id": "522c6446",
   "metadata": {},
   "outputs": [
    {
     "data": {
      "text/plain": [
       "0    50\n",
       "1    30\n",
       "2    20\n",
       "dtype: int64"
      ]
     },
     "execution_count": 8,
     "metadata": {},
     "output_type": "execute_result"
    }
   ],
   "source": [
    "pd.Series(myAges)"
   ]
  },
  {
   "cell_type": "code",
   "execution_count": 10,
   "id": "9298a330",
   "metadata": {},
   "outputs": [
    {
     "data": {
      "text/plain": [
       "Ali       50\n",
       "Zeynep    30\n",
       "Mehmet    20\n",
       "dtype: int64"
      ]
     },
     "execution_count": 10,
     "metadata": {},
     "output_type": "execute_result"
    }
   ],
   "source": [
    "pd.Series(myAges, myNames)"
   ]
  },
  {
   "cell_type": "code",
   "execution_count": 12,
   "id": "ad3fd4d2",
   "metadata": {},
   "outputs": [
    {
     "data": {
      "text/plain": [
       "Ali       50\n",
       "Zeynep    30\n",
       "Mehmet    20\n",
       "dtype: int64"
      ]
     },
     "execution_count": 12,
     "metadata": {},
     "output_type": "execute_result"
    }
   ],
   "source": [
    "pd.Series(data=myAges, index=myNames) #yukarıdakinin farklı yolu"
   ]
  },
  {
   "cell_type": "code",
   "execution_count": 14,
   "id": "018d5af3",
   "metadata": {},
   "outputs": [],
   "source": [
    "numpyArr = np.array([50,40,30])"
   ]
  },
  {
   "cell_type": "code",
   "execution_count": 15,
   "id": "ab0a1715",
   "metadata": {},
   "outputs": [
    {
     "data": {
      "text/plain": [
       "array([50, 40, 30])"
      ]
     },
     "execution_count": 15,
     "metadata": {},
     "output_type": "execute_result"
    }
   ],
   "source": [
    "numpyArr"
   ]
  },
  {
   "cell_type": "code",
   "execution_count": 17,
   "id": "f8993242",
   "metadata": {},
   "outputs": [
    {
     "data": {
      "text/plain": [
       "0    50\n",
       "1    40\n",
       "2    30\n",
       "dtype: int32"
      ]
     },
     "execution_count": 17,
     "metadata": {},
     "output_type": "execute_result"
    }
   ],
   "source": [
    "pd.Series(numpyArr) #numpy dizisini pandas serisine çevirebiliyoruz"
   ]
  },
  {
   "cell_type": "code",
   "execution_count": 18,
   "id": "0b70b98e",
   "metadata": {},
   "outputs": [
    {
     "data": {
      "text/plain": [
       "Ali       50\n",
       "Zeynep    40\n",
       "Mehmet    30\n",
       "dtype: int32"
      ]
     },
     "execution_count": 18,
     "metadata": {},
     "output_type": "execute_result"
    }
   ],
   "source": [
    "pd.Series(numpyArr, myNames)"
   ]
  },
  {
   "cell_type": "code",
   "execution_count": null,
   "id": "b9c5ea5c",
   "metadata": {},
   "outputs": [],
   "source": []
  }
 ],
 "metadata": {
  "kernelspec": {
   "display_name": "Python 3 (ipykernel)",
   "language": "python",
   "name": "python3"
  },
  "language_info": {
   "codemirror_mode": {
    "name": "ipython",
    "version": 3
   },
   "file_extension": ".py",
   "mimetype": "text/x-python",
   "name": "python",
   "nbconvert_exporter": "python",
   "pygments_lexer": "ipython3",
   "version": "3.9.12"
  }
 },
 "nbformat": 4,
 "nbformat_minor": 5
}
