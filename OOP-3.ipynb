{
 "cells": [
  {
   "cell_type": "markdown",
   "id": "c216ab22",
   "metadata": {},
   "source": [
    "# OOP-3"
   ]
  },
  {
   "cell_type": "markdown",
   "id": "9a756bfa",
   "metadata": {},
   "source": [
    "Çoğu zaman class içerisine tanımlanan şeyler print ismi kullanılarak yazılamaz bu durumda devreye \"-str-\" methodu girer. Aynı şekilde lenght'ini öğrenmek de mümkün değildir. Bunun içinde \"-len-\" özel methodu kullanılır"
   ]
  },
  {
   "cell_type": "code",
   "execution_count": 4,
   "id": "602b40a8",
   "metadata": {},
   "outputs": [],
   "source": [
    "class Meyve():\n",
    "    def __init__(self,isim,kalori):\n",
    "        self.isim = isim\n",
    "        self.kalori = kalori\n",
    "        \n",
    "    def __str__(self):\n",
    "        return f\"{self.isim} şu kadar kaloriye sahiptir : {self.kalori}\"\n",
    "    \n",
    "    def __len__(self):\n",
    "        return self.kalori"
   ]
  },
  {
   "cell_type": "code",
   "execution_count": 5,
   "id": "8f33adc0",
   "metadata": {},
   "outputs": [],
   "source": [
    "muz = Meyve(\"Muz\",150)"
   ]
  },
  {
   "cell_type": "code",
   "execution_count": 6,
   "id": "3e3739db",
   "metadata": {},
   "outputs": [
    {
     "data": {
      "text/plain": [
       "150"
      ]
     },
     "execution_count": 6,
     "metadata": {},
     "output_type": "execute_result"
    }
   ],
   "source": [
    "muz.kalori"
   ]
  },
  {
   "cell_type": "code",
   "execution_count": 8,
   "id": "1c3b55d1",
   "metadata": {},
   "outputs": [
    {
     "name": "stdout",
     "output_type": "stream",
     "text": [
      "Muz şu kadar kaloriye sahiptir : 150\n"
     ]
    }
   ],
   "source": [
    "#__str__ ifadesinden once bu ciktiyi alamiyorduk\n",
    "print(muz)"
   ]
  },
  {
   "cell_type": "code",
   "execution_count": 9,
   "id": "3551a1a1",
   "metadata": {},
   "outputs": [],
   "source": [
    "myList = [1,2,3,\"a\",4.50]"
   ]
  },
  {
   "cell_type": "code",
   "execution_count": 10,
   "id": "1fe61cc0",
   "metadata": {},
   "outputs": [
    {
     "name": "stdout",
     "output_type": "stream",
     "text": [
      "[1, 2, 3, 'a', 4.5]\n"
     ]
    }
   ],
   "source": [
    "print(myList)"
   ]
  },
  {
   "cell_type": "code",
   "execution_count": 12,
   "id": "1d10d71a",
   "metadata": {},
   "outputs": [
    {
     "data": {
      "text/plain": [
       "5"
      ]
     },
     "execution_count": 12,
     "metadata": {},
     "output_type": "execute_result"
    }
   ],
   "source": [
    "#__len__ ifadesi olmadan once bunu çalıştıramıyorduk\n",
    "len(myList)"
   ]
  },
  {
   "cell_type": "markdown",
   "id": "cd38d9cf",
   "metadata": {},
   "source": [
    "# TRY & EXCEPT & ELSE & FINALLY"
   ]
  },
  {
   "cell_type": "code",
   "execution_count": 2,
   "id": "4885f2b1",
   "metadata": {},
   "outputs": [
    {
     "name": "stdout",
     "output_type": "stream",
     "text": [
      "Numaranızı giriniz:asd\n",
      "Lütfen gerçekten Numara giriniz !!\n",
      "Finally çağrıldı\n",
      "Numaranızı giriniz:asd\n",
      "Lütfen gerçekten Numara giriniz !!\n",
      "Finally çağrıldı\n",
      "Numaranızı giriniz:dgs\n",
      "Lütfen gerçekten Numara giriniz !!\n",
      "Finally çağrıldı\n",
      "Numaranızı giriniz:78\n",
      "teşekkürler\n",
      "Finally çağrıldı\n"
     ]
    }
   ],
   "source": [
    "while True: \n",
    "    try:\n",
    "        myInt = int(input(\"Numaranızı giriniz:\"))\n",
    "    except:\n",
    "        print(\"Lütfen gerçekten Numara giriniz !!\")\n",
    "        continue\n",
    "    else:\n",
    "        print(\"teşekkürler\")\n",
    "        break\n",
    "    finally:\n",
    "        print(\"Finally çağrıldı\")"
   ]
  },
  {
   "cell_type": "markdown",
   "id": "0ec4ea4b",
   "metadata": {},
   "source": [
    "##### Yukarıda bahsedilen olay şudur: Try içindeki ifadeler denenecek, Eğer bir hata olursa Except kısmı çalışacak ve program devam edecek, Eğer hiçbir sorun olmaz ve çalışırsa else bloğuna geçecek ve kod bitecek, En son ise çalıştığına dair mesaj finally her daim çağırılacak"
   ]
  },
  {
   "cell_type": "code",
   "execution_count": null,
   "id": "391a605f",
   "metadata": {},
   "outputs": [],
   "source": []
  }
 ],
 "metadata": {
  "kernelspec": {
   "display_name": "Python 3 (ipykernel)",
   "language": "python",
   "name": "python3"
  },
  "language_info": {
   "codemirror_mode": {
    "name": "ipython",
    "version": 3
   },
   "file_extension": ".py",
   "mimetype": "text/x-python",
   "name": "python",
   "nbconvert_exporter": "python",
   "pygments_lexer": "ipython3",
   "version": "3.9.12"
  }
 },
 "nbformat": 4,
 "nbformat_minor": 5
}
