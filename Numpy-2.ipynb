{
 "cells": [
  {
   "cell_type": "markdown",
   "id": "88449cf7",
   "metadata": {},
   "source": [
    "#  NUMPY-2"
   ]
  },
  {
   "cell_type": "markdown",
   "id": "76c08090",
   "metadata": {},
   "source": [
    "## random"
   ]
  },
  {
   "cell_type": "code",
   "execution_count": 1,
   "id": "fb95b047",
   "metadata": {},
   "outputs": [],
   "source": [
    "import numpy as np"
   ]
  },
  {
   "cell_type": "code",
   "execution_count": 3,
   "id": "2efbe9c0",
   "metadata": {},
   "outputs": [
    {
     "data": {
      "text/plain": [
       "array([-1.42842805,  0.52391824,  1.39088636,  0.55904374, -0.10488495,\n",
       "        1.64504222,  0.68891047, -1.16993229])"
      ]
     },
     "execution_count": 3,
     "metadata": {},
     "output_type": "execute_result"
    }
   ],
   "source": [
    "np.random.randn(8) #random bir numpy dizisi döndürüyor"
   ]
  },
  {
   "cell_type": "code",
   "execution_count": 4,
   "id": "a93cde4d",
   "metadata": {},
   "outputs": [
    {
     "data": {
      "text/plain": [
       "array([[-1.10246958, -1.99195174,  0.08175919],\n",
       "       [-0.99153145,  0.20349402,  1.03761079],\n",
       "       [-0.59436443, -1.05444104,  0.83680178],\n",
       "       [ 1.86094356, -2.48281371,  0.28789622],\n",
       "       [-0.56001149,  0.71456696,  0.03088312],\n",
       "       [-0.56162368,  0.0103079 ,  1.29507681],\n",
       "       [-0.14621992, -1.00999359,  1.11292083],\n",
       "       [ 0.18077488,  0.7611318 , -1.58804692]])"
      ]
     },
     "execution_count": 4,
     "metadata": {},
     "output_type": "execute_result"
    }
   ],
   "source": [
    "np.random.randn(8,3)"
   ]
  },
  {
   "cell_type": "code",
   "execution_count": 7,
   "id": "2fdfffde",
   "metadata": {},
   "outputs": [
    {
     "data": {
      "text/plain": [
       "9"
      ]
     },
     "execution_count": 7,
     "metadata": {},
     "output_type": "execute_result"
    }
   ],
   "source": [
    "np.random.randint(1,10) #rastgele int sayı döndürüyor"
   ]
  },
  {
   "cell_type": "code",
   "execution_count": 9,
   "id": "c1a06d3f",
   "metadata": {},
   "outputs": [
    {
     "data": {
      "text/plain": [
       "array([2, 3, 6, 8, 6])"
      ]
     },
     "execution_count": 9,
     "metadata": {},
     "output_type": "execute_result"
    }
   ],
   "source": [
    "np.random.randint(1,10,5) #son değer kaç rakam istediğimiz"
   ]
  },
  {
   "cell_type": "code",
   "execution_count": 12,
   "id": "1987a4bb",
   "metadata": {},
   "outputs": [],
   "source": [
    "myNumpyArr = np.arange(15)"
   ]
  },
  {
   "cell_type": "code",
   "execution_count": 13,
   "id": "909de0a1",
   "metadata": {},
   "outputs": [
    {
     "data": {
      "text/plain": [
       "array([ 0,  1,  2,  3,  4,  5,  6,  7,  8,  9, 10, 11, 12, 13, 14])"
      ]
     },
     "execution_count": 13,
     "metadata": {},
     "output_type": "execute_result"
    }
   ],
   "source": [
    "myNumpyArr"
   ]
  },
  {
   "cell_type": "code",
   "execution_count": 14,
   "id": "c94ca2ff",
   "metadata": {},
   "outputs": [],
   "source": [
    "myRandomArr = np.random.randint(0,40,5)"
   ]
  },
  {
   "cell_type": "code",
   "execution_count": 15,
   "id": "41f7d3d3",
   "metadata": {},
   "outputs": [
    {
     "data": {
      "text/plain": [
       "array([21, 35, 12, 25, 13])"
      ]
     },
     "execution_count": 15,
     "metadata": {},
     "output_type": "execute_result"
    }
   ],
   "source": [
    "myRandomArr"
   ]
  },
  {
   "cell_type": "markdown",
   "id": "d94b4b92",
   "metadata": {},
   "source": [
    "#### \"_arange_\" sıralı bir şekilde sayılar üretirken \"_randint_\" rastgele sayılar üretir(int). \"_randn_\" ise rastgele randint gibi rastgele sayılar üretir(float). Bu belirtilen fonksiyonların hepsi \"_np.random_\"un modülleridir"
   ]
  },
  {
   "cell_type": "markdown",
   "id": "c7632be2",
   "metadata": {},
   "source": [
    "# NUMPY ARRAY METHODS"
   ]
  },
  {
   "cell_type": "code",
   "execution_count": 23,
   "id": "ab236b04",
   "metadata": {},
   "outputs": [
    {
     "data": {
      "text/plain": [
       "array([[ 0,  1,  2],\n",
       "       [ 3,  4,  5],\n",
       "       [ 6,  7,  8],\n",
       "       [ 9, 10, 11],\n",
       "       [12, 13, 14]])"
      ]
     },
     "execution_count": 23,
     "metadata": {},
     "output_type": "execute_result"
    }
   ],
   "source": [
    "myNumpyArr.reshape(5,3) #verilen diziyi matris yapma"
   ]
  },
  {
   "cell_type": "markdown",
   "id": "feff045b",
   "metadata": {},
   "source": [
    "Burada dikkat edilmesi gereken şey girilen değer çarpımı dizideki eleman sayısına eşit olmalı"
   ]
  },
  {
   "cell_type": "code",
   "execution_count": 24,
   "id": "f1043ea0",
   "metadata": {},
   "outputs": [
    {
     "data": {
      "text/plain": [
       "14"
      ]
     },
     "execution_count": 24,
     "metadata": {},
     "output_type": "execute_result"
    }
   ],
   "source": [
    "myNumpyArr.max() #dizi içindeki en yüksek değer"
   ]
  },
  {
   "cell_type": "code",
   "execution_count": 28,
   "id": "2dbbb098",
   "metadata": {},
   "outputs": [
    {
     "data": {
      "text/plain": [
       "12"
      ]
     },
     "execution_count": 28,
     "metadata": {},
     "output_type": "execute_result"
    }
   ],
   "source": [
    "myRandomArr.min() #min değer"
   ]
  },
  {
   "cell_type": "code",
   "execution_count": 31,
   "id": "b3f2cb14",
   "metadata": {},
   "outputs": [
    {
     "data": {
      "text/plain": [
       "1"
      ]
     },
     "execution_count": 31,
     "metadata": {},
     "output_type": "execute_result"
    }
   ],
   "source": [
    "myRandomArr.argmax() #en yüksek değerin dizi içindeki yeri"
   ]
  },
  {
   "cell_type": "code",
   "execution_count": 33,
   "id": "0dd1438b",
   "metadata": {
    "scrolled": true
   },
   "outputs": [
    {
     "data": {
      "text/plain": [
       "2"
      ]
     },
     "execution_count": 33,
     "metadata": {},
     "output_type": "execute_result"
    }
   ],
   "source": [
    "myRandomArr.argmin() #en düşük değerin dizi içindeki yeri"
   ]
  },
  {
   "cell_type": "code",
   "execution_count": 37,
   "id": "30dff767",
   "metadata": {},
   "outputs": [
    {
     "data": {
      "text/plain": [
       "(15,)"
      ]
     },
     "execution_count": 37,
     "metadata": {},
     "output_type": "execute_result"
    }
   ],
   "source": [
    "myNumpyArr.shape #dizi içindeki değerler"
   ]
  },
  {
   "cell_type": "code",
   "execution_count": 40,
   "id": "fe3d87ea",
   "metadata": {},
   "outputs": [],
   "source": [
    "newNumpyArr = myNumpyArr.reshape(5,3) #2d diziyi değişkene atadık"
   ]
  },
  {
   "cell_type": "code",
   "execution_count": 41,
   "id": "f86df2a9",
   "metadata": {},
   "outputs": [
    {
     "data": {
      "text/plain": [
       "(5, 3)"
      ]
     },
     "execution_count": 41,
     "metadata": {},
     "output_type": "execute_result"
    }
   ],
   "source": [
    "newNumpyArr.shape #yeni değişkenin shape değeri"
   ]
  },
  {
   "cell_type": "code",
   "execution_count": null,
   "id": "a94a92f8",
   "metadata": {},
   "outputs": [],
   "source": []
  }
 ],
 "metadata": {
  "kernelspec": {
   "display_name": "Python 3 (ipykernel)",
   "language": "python",
   "name": "python3"
  },
  "language_info": {
   "codemirror_mode": {
    "name": "ipython",
    "version": 3
   },
   "file_extension": ".py",
   "mimetype": "text/x-python",
   "name": "python",
   "nbconvert_exporter": "python",
   "pygments_lexer": "ipython3",
   "version": "3.9.12"
  }
 },
 "nbformat": 4,
 "nbformat_minor": 5
}
