{
 "cells": [
  {
   "cell_type": "markdown",
   "id": "64a179f1",
   "metadata": {},
   "source": [
    "# PANDAS 2"
   ]
  },
  {
   "cell_type": "code",
   "execution_count": 1,
   "id": "166ccae9",
   "metadata": {},
   "outputs": [],
   "source": [
    "import numpy as np\n",
    "import pandas as pd"
   ]
  },
  {
   "cell_type": "code",
   "execution_count": 5,
   "id": "19374009",
   "metadata": {},
   "outputs": [
    {
     "data": {
      "text/plain": [
       "1     Atil\n",
       "2    Atlas\n",
       "3    Osman\n",
       "dtype: object"
      ]
     },
     "execution_count": 5,
     "metadata": {},
     "output_type": "execute_result"
    }
   ],
   "source": [
    "pd.Series([\"Atil\",\"Atlas\",\"Osman\"],[1,2,3]) #string seri. 2.parametre index no yazabiliyoruz"
   ]
  },
  {
   "cell_type": "code",
   "execution_count": 9,
   "id": "78862e20",
   "metadata": {},
   "outputs": [],
   "source": [
    "yarismaSonucu1 = pd.Series([10,5,1],[\"Atil\",\"Atlas\",\"Osman\"]) #burada isimleri index yaptık"
   ]
  },
  {
   "cell_type": "code",
   "execution_count": 10,
   "id": "7530d8aa",
   "metadata": {},
   "outputs": [
    {
     "data": {
      "text/plain": [
       "Atil     10\n",
       "Atlas     5\n",
       "Osman     1\n",
       "dtype: int64"
      ]
     },
     "execution_count": 10,
     "metadata": {},
     "output_type": "execute_result"
    }
   ],
   "source": [
    "yarismaSonucu1"
   ]
  },
  {
   "cell_type": "code",
   "execution_count": 17,
   "id": "78a7cc8b",
   "metadata": {},
   "outputs": [],
   "source": [
    "yarsimaSonucu2 = pd.Series([20,10,8],[\"Atil\",\"Atlas\",\"Osman\"])"
   ]
  },
  {
   "cell_type": "code",
   "execution_count": 18,
   "id": "b6302751",
   "metadata": {},
   "outputs": [
    {
     "data": {
      "text/plain": [
       "Atil     20\n",
       "Atlas    10\n",
       "Osman     8\n",
       "dtype: int64"
      ]
     },
     "execution_count": 18,
     "metadata": {},
     "output_type": "execute_result"
    }
   ],
   "source": [
    "yarsimaSonucu2"
   ]
  },
  {
   "cell_type": "markdown",
   "id": "f1bd6e25",
   "metadata": {},
   "source": [
    "###### seriden veri çekme\n"
   ]
  },
  {
   "cell_type": "code",
   "execution_count": 19,
   "id": "fdebf09c",
   "metadata": {},
   "outputs": [
    {
     "data": {
      "text/plain": [
       "10"
      ]
     },
     "execution_count": 19,
     "metadata": {},
     "output_type": "execute_result"
    }
   ],
   "source": [
    "yarsimaSonucu2[\"Atlas\"]"
   ]
  },
  {
   "cell_type": "code",
   "execution_count": 20,
   "id": "3669fd7a",
   "metadata": {},
   "outputs": [],
   "source": [
    "sonSonuc = yarismaSonucu1 + yarsimaSonucu2"
   ]
  },
  {
   "cell_type": "code",
   "execution_count": 22,
   "id": "722e16aa",
   "metadata": {},
   "outputs": [
    {
     "data": {
      "text/plain": [
       "Atil     30\n",
       "Atlas    15\n",
       "Osman     9\n",
       "dtype: int64"
      ]
     },
     "execution_count": 22,
     "metadata": {},
     "output_type": "execute_result"
    }
   ],
   "source": [
    "sonSonuc #2 yarışmanın değerini de topladı"
   ]
  },
  {
   "cell_type": "markdown",
   "id": "baaa5cde",
   "metadata": {},
   "source": [
    "#### Eger farklı değerler Olursa"
   ]
  },
  {
   "cell_type": "markdown",
   "id": "116bff7b",
   "metadata": {},
   "source": [
    "1. ve 2. seri de farklı değerler olsaydı o değerleri toplamaz ve \"NaN\" olarak yazar\n",
    "Sadece 2 seride de olan değerleri toplar"
   ]
  },
  {
   "cell_type": "code",
   "execution_count": null,
   "id": "22aa5b2f",
   "metadata": {},
   "outputs": [],
   "source": []
  }
 ],
 "metadata": {
  "kernelspec": {
   "display_name": "Python 3 (ipykernel)",
   "language": "python",
   "name": "python3"
  },
  "language_info": {
   "codemirror_mode": {
    "name": "ipython",
    "version": 3
   },
   "file_extension": ".py",
   "mimetype": "text/x-python",
   "name": "python",
   "nbconvert_exporter": "python",
   "pygments_lexer": "ipython3",
   "version": "3.9.12"
  }
 },
 "nbformat": 4,
 "nbformat_minor": 5
}
