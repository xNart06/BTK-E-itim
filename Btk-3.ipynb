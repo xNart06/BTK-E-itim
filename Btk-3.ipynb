{
 "cells": [
  {
   "cell_type": "markdown",
   "id": "7ebab192",
   "metadata": {},
   "source": [
    "# Fonksiyonlar\n"
   ]
  },
  {
   "cell_type": "code",
   "execution_count": 2,
   "id": "13bd7a62",
   "metadata": {},
   "outputs": [
    {
     "data": {
      "text/plain": [
       "'FURKAN'"
      ]
     },
     "execution_count": 2,
     "metadata": {},
     "output_type": "execute_result"
    }
   ],
   "source": [
    "myName = \"furkan\"\n",
    "myName.upper()"
   ]
  },
  {
   "cell_type": "code",
   "execution_count": 4,
   "id": "61a04d95",
   "metadata": {},
   "outputs": [
    {
     "name": "stdout",
     "output_type": "stream",
     "text": [
      "No Python documentation found for 'FURKAN'.\n",
      "Use help() to get the interactive help utility.\n",
      "Use help(str) for help on the str class.\n",
      "\n"
     ]
    }
   ],
   "source": [
    "help(myName.upper())"
   ]
  },
  {
   "cell_type": "markdown",
   "id": "72aba2e0",
   "metadata": {},
   "source": [
    "### \"def\" komutu ile fonksiyon oluşturulur"
   ]
  },
  {
   "cell_type": "code",
   "execution_count": 6,
   "id": "3e511e5b",
   "metadata": {},
   "outputs": [
    {
     "name": "stdout",
     "output_type": "stream",
     "text": [
      "My Function\n"
     ]
    }
   ],
   "source": [
    "def myFunction():\n",
    "    print(\"My Function\")\n",
    "\n",
    "myFunction()"
   ]
  },
  {
   "cell_type": "markdown",
   "id": "4095636e",
   "metadata": {},
   "source": [
    "### input&return"
   ]
  },
  {
   "cell_type": "code",
   "execution_count": 7,
   "id": "ef3f695f",
   "metadata": {},
   "outputs": [
    {
     "name": "stdout",
     "output_type": "stream",
     "text": [
      "25\n"
     ]
    }
   ],
   "source": [
    "def myFunction2(value):\n",
    "    print(value*5)\n",
    "    \n",
    "myFunction2(5)"
   ]
  },
  {
   "cell_type": "code",
   "execution_count": 8,
   "id": "24a03a75",
   "metadata": {},
   "outputs": [
    {
     "name": "stdout",
     "output_type": "stream",
     "text": [
      "8\n"
     ]
    }
   ],
   "source": [
    "def mathFunc(num1, num2):\n",
    "    print(num1 + num2)\n",
    "\n",
    "mathFunc(3, 5)"
   ]
  },
  {
   "cell_type": "code",
   "execution_count": 9,
   "id": "b6b8b6b6",
   "metadata": {},
   "outputs": [
    {
     "name": "stdout",
     "output_type": "stream",
     "text": [
      "16\n"
     ]
    }
   ],
   "source": [
    "def mathFunc2(x,y):\n",
    "    return x+y\n",
    "\n",
    "mathFunc(7,9)"
   ]
  },
  {
   "cell_type": "markdown",
   "id": "d550932a",
   "metadata": {},
   "source": [
    "# args & kwargs\n"
   ]
  },
  {
   "cell_type": "markdown",
   "id": "619f2d5c",
   "metadata": {},
   "source": [
    "#### fonksiyon içine girilecek eleman sayısını programcının belirlemediği kullanıcının isteğine göre girdiği durumlarda kullanılır\n"
   ]
  },
  {
   "cell_type": "markdown",
   "id": "1eaf8be6",
   "metadata": {},
   "source": [
    "###### sum() toplama fonksiyonudur"
   ]
  },
  {
   "cell_type": "code",
   "execution_count": 10,
   "id": "57d19346",
   "metadata": {},
   "outputs": [
    {
     "data": {
      "text/plain": [
       "201"
      ]
     },
     "execution_count": 10,
     "metadata": {},
     "output_type": "execute_result"
    }
   ],
   "source": [
    "def myArgs(*args):\n",
    "    return sum(args)\n",
    "\n",
    "myArgs(12,45,78,56,10)"
   ]
  },
  {
   "cell_type": "markdown",
   "id": "d7431323",
   "metadata": {},
   "source": [
    " ###### kwargs = Key Words Arguments, keywordler ile çalıştığımız zaman kullanıyoruz"
   ]
  },
  {
   "cell_type": "code",
   "execution_count": 11,
   "id": "65408245",
   "metadata": {},
   "outputs": [
    {
     "name": "stdout",
     "output_type": "stream",
     "text": [
      "{'muz': 10, 'elma': 50, 'armut': 80}\n"
     ]
    }
   ],
   "source": [
    "def myKwargs(**kwargs):\n",
    "    print(kwargs)\n",
    "    \n",
    "myKwargs(muz=10, elma=50, armut=80)"
   ]
  },
  {
   "cell_type": "code",
   "execution_count": 16,
   "id": "22c76dfd",
   "metadata": {},
   "outputs": [
    {
     "data": {
      "text/plain": [
       "True"
      ]
     },
     "execution_count": 16,
     "metadata": {},
     "output_type": "execute_result"
    }
   ],
   "source": [
    "#cümle içinde kelime arama\n",
    "def ara(**kwargs):\n",
    "    if \"furkan\" in kwargs:\n",
    "        return True\n",
    "    else:\n",
    "        return False\n",
    "    \n",
    "ara(ali=40, furkan=21, ayşe=12)\n",
    "        "
   ]
  },
  {
   "cell_type": "code",
   "execution_count": null,
   "id": "38a92604",
   "metadata": {},
   "outputs": [],
   "source": []
  },
  {
   "cell_type": "code",
   "execution_count": null,
   "id": "594ad36a",
   "metadata": {},
   "outputs": [],
   "source": []
  }
 ],
 "metadata": {
  "kernelspec": {
   "display_name": "Python 3 (ipykernel)",
   "language": "python",
   "name": "python3"
  },
  "language_info": {
   "codemirror_mode": {
    "name": "ipython",
    "version": 3
   },
   "file_extension": ".py",
   "mimetype": "text/x-python",
   "name": "python",
   "nbconvert_exporter": "python",
   "pygments_lexer": "ipython3",
   "version": "3.9.12"
  }
 },
 "nbformat": 4,
 "nbformat_minor": 5
}
