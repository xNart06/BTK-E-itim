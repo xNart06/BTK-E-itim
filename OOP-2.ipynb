{
 "cells": [
  {
   "cell_type": "markdown",
   "id": "81fcab0e",
   "metadata": {},
   "source": [
    "# OOP-2\n",
    "### inheritance kalıtım"
   ]
  },
  {
   "cell_type": "markdown",
   "id": "2de2be25",
   "metadata": {},
   "source": [
    "###### bir sınıfta yaptığın şeyi diğer sınıfta da yapmak istediğimiz fakat üzerine yeni şeyler eklemek istediğimiz durumlarda kullanırız"
   ]
  },
  {
   "cell_type": "code",
   "execution_count": 2,
   "id": "63bb34af",
   "metadata": {},
   "outputs": [],
   "source": [
    "class Hayvan():\n",
    "    def __init_(self):\n",
    "        print(\"hayvan sınıfı init çağrıldı\")\n",
    "        \n",
    "    def method1(self):\n",
    "        print(\"hayvan sınıfı method1 çağrıldı\")\n",
    "    \n",
    "    def method2(self):\n",
    "        print(\"hayvan sınıfı method2 çağrıldı\")"
   ]
  },
  {
   "cell_type": "code",
   "execution_count": 3,
   "id": "866d36fe",
   "metadata": {},
   "outputs": [],
   "source": [
    "benimHayvanım = Hayvan()"
   ]
  },
  {
   "cell_type": "code",
   "execution_count": 4,
   "id": "d4a54eba",
   "metadata": {},
   "outputs": [
    {
     "name": "stdout",
     "output_type": "stream",
     "text": [
      "hayvan sınıfı method1 çağrıldı\n"
     ]
    }
   ],
   "source": [
    "benimHayvanım.method1()"
   ]
  },
  {
   "cell_type": "code",
   "execution_count": 5,
   "id": "44848a16",
   "metadata": {},
   "outputs": [
    {
     "name": "stdout",
     "output_type": "stream",
     "text": [
      "hayvan sınıfı method2 çağrıldı\n"
     ]
    }
   ],
   "source": [
    "benimHayvanım.method2()"
   ]
  },
  {
   "cell_type": "code",
   "execution_count": 11,
   "id": "b22382eb",
   "metadata": {},
   "outputs": [],
   "source": [
    "class Kedi(Hayvan):\n",
    "    def __init__(self):\n",
    "        Hayvan.__init__(self) #bunu çağıramıyoruz???\n",
    "        print(\"Kedi sınıfı init çağrıldı\")"
   ]
  },
  {
   "cell_type": "code",
   "execution_count": 12,
   "id": "46ff2d58",
   "metadata": {},
   "outputs": [
    {
     "name": "stdout",
     "output_type": "stream",
     "text": [
      "Kedi sınıfı init çağrıldı\n"
     ]
    }
   ],
   "source": [
    "myCat = Kedi()"
   ]
  },
  {
   "cell_type": "markdown",
   "id": "72d32971",
   "metadata": {},
   "source": [
    "### myCat classı içinde olmamasına rağmen method1 i çağırabiliyoruz"
   ]
  },
  {
   "cell_type": "code",
   "execution_count": 14,
   "id": "2a22fd2a",
   "metadata": {},
   "outputs": [
    {
     "name": "stdout",
     "output_type": "stream",
     "text": [
      "hayvan sınıfı method1 çağrıldı\n"
     ]
    }
   ],
   "source": [
    "myCat.method1() "
   ]
  },
  {
   "cell_type": "markdown",
   "id": "859e9e1b",
   "metadata": {},
   "source": [
    "## Polymorphism\n",
    "aynı isimde fonksiyonların farklı amaca hizmet edebilmesi"
   ]
  },
  {
   "cell_type": "code",
   "execution_count": 15,
   "id": "5f209b84",
   "metadata": {},
   "outputs": [],
   "source": [
    "class Elma():\n",
    "    def __init__(self,isim):\n",
    "        self.isim = isim\n",
    "    def bilgiVer(self):\n",
    "        return self.isim + \"100 kaloridir\""
   ]
  },
  {
   "cell_type": "code",
   "execution_count": 22,
   "id": "1e9b1745",
   "metadata": {},
   "outputs": [],
   "source": [
    "class Muz():\n",
    "    def __init__(self,isim):\n",
    "        self.isim = isim\n",
    "    def bilgiVer(self):\n",
    "        return self.isim + \"150 kalori\""
   ]
  },
  {
   "cell_type": "code",
   "execution_count": 23,
   "id": "69b925c5",
   "metadata": {},
   "outputs": [],
   "source": [
    "elma = Elma(\"elma\")"
   ]
  },
  {
   "cell_type": "code",
   "execution_count": 24,
   "id": "749a7d10",
   "metadata": {},
   "outputs": [
    {
     "data": {
      "text/plain": [
       "'elma100 kaloridir'"
      ]
     },
     "execution_count": 24,
     "metadata": {},
     "output_type": "execute_result"
    }
   ],
   "source": [
    "elma.bilgiVer()"
   ]
  },
  {
   "cell_type": "code",
   "execution_count": 25,
   "id": "b7a0f2c2",
   "metadata": {},
   "outputs": [],
   "source": [
    "muz = Muz(\"muz\")"
   ]
  },
  {
   "cell_type": "code",
   "execution_count": 26,
   "id": "e19fd6b7",
   "metadata": {},
   "outputs": [
    {
     "data": {
      "text/plain": [
       "'muz150 kalori'"
      ]
     },
     "execution_count": 26,
     "metadata": {},
     "output_type": "execute_result"
    }
   ],
   "source": [
    "muz.bilgiVer()"
   ]
  },
  {
   "cell_type": "markdown",
   "id": "48eb6f16",
   "metadata": {},
   "source": [
    "Buraya kadar polymorphism kullanmadık. Burdan sonra kullancağız"
   ]
  },
  {
   "cell_type": "code",
   "execution_count": 27,
   "id": "78fbd036",
   "metadata": {},
   "outputs": [],
   "source": [
    "meyveListesi = [elma,muz]"
   ]
  },
  {
   "cell_type": "code",
   "execution_count": 28,
   "id": "c133d918",
   "metadata": {},
   "outputs": [
    {
     "name": "stdout",
     "output_type": "stream",
     "text": [
      "elma100 kaloridir\n",
      "muz150 kalori\n"
     ]
    }
   ],
   "source": [
    "for meyve in meyveListesi:\n",
    "    print(meyve.bilgiVer())"
   ]
  },
  {
   "cell_type": "markdown",
   "id": "8ba8d5c3",
   "metadata": {},
   "source": [
    "Yukarıda da görüldüğü üzere meyveListesi adlı listenin içini for ile dönüp içindeki tüm objelerin bilgiVer fonksiyonu çağırıp işlem yapabiliyoruz"
   ]
  },
  {
   "cell_type": "code",
   "execution_count": null,
   "id": "47e9f7c7",
   "metadata": {},
   "outputs": [],
   "source": []
  }
 ],
 "metadata": {
  "kernelspec": {
   "display_name": "Python 3 (ipykernel)",
   "language": "python",
   "name": "python3"
  },
  "language_info": {
   "codemirror_mode": {
    "name": "ipython",
    "version": 3
   },
   "file_extension": ".py",
   "mimetype": "text/x-python",
   "name": "python",
   "nbconvert_exporter": "python",
   "pygments_lexer": "ipython3",
   "version": "3.9.12"
  }
 },
 "nbformat": 4,
 "nbformat_minor": 5
}
