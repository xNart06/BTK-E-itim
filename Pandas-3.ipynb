{
 "cells": [
  {
   "cell_type": "markdown",
   "id": "b2f26435",
   "metadata": {},
   "source": [
    "# PANDAS 3"
   ]
  },
  {
   "cell_type": "code",
   "execution_count": 1,
   "id": "3bf07795",
   "metadata": {},
   "outputs": [],
   "source": [
    "import numpy as np\n",
    "import pandas as pd"
   ]
  },
  {
   "cell_type": "code",
   "execution_count": 7,
   "id": "5a42d4d5",
   "metadata": {},
   "outputs": [],
   "source": [
    "data = np.random.randn(4,3)"
   ]
  },
  {
   "cell_type": "code",
   "execution_count": 8,
   "id": "ff6a5b14",
   "metadata": {},
   "outputs": [
    {
     "data": {
      "text/plain": [
       "array([[ 0.03652042, -1.43525885,  0.0973988 ],\n",
       "       [-1.03560432, -0.32241162,  0.86592952],\n",
       "       [ 0.74738856,  1.9578007 ,  0.6722035 ],\n",
       "       [ 0.91810066, -0.05808844,  0.94625006]])"
      ]
     },
     "execution_count": 8,
     "metadata": {},
     "output_type": "execute_result"
    }
   ],
   "source": [
    "data"
   ]
  },
  {
   "cell_type": "code",
   "execution_count": 11,
   "id": "fd1969c9",
   "metadata": {},
   "outputs": [],
   "source": [
    "dataFrame = pd.DataFrame(data) #data'yı dataFrame şekline çevirdi"
   ]
  },
  {
   "cell_type": "code",
   "execution_count": 15,
   "id": "f22f10b7",
   "metadata": {},
   "outputs": [
    {
     "data": {
      "text/html": [
       "<div>\n",
       "<style scoped>\n",
       "    .dataframe tbody tr th:only-of-type {\n",
       "        vertical-align: middle;\n",
       "    }\n",
       "\n",
       "    .dataframe tbody tr th {\n",
       "        vertical-align: top;\n",
       "    }\n",
       "\n",
       "    .dataframe thead th {\n",
       "        text-align: right;\n",
       "    }\n",
       "</style>\n",
       "<table border=\"1\" class=\"dataframe\">\n",
       "  <thead>\n",
       "    <tr style=\"text-align: right;\">\n",
       "      <th></th>\n",
       "      <th>0</th>\n",
       "      <th>1</th>\n",
       "      <th>2</th>\n",
       "    </tr>\n",
       "  </thead>\n",
       "  <tbody>\n",
       "    <tr>\n",
       "      <th>0</th>\n",
       "      <td>0.036520</td>\n",
       "      <td>-1.435259</td>\n",
       "      <td>0.097399</td>\n",
       "    </tr>\n",
       "    <tr>\n",
       "      <th>1</th>\n",
       "      <td>-1.035604</td>\n",
       "      <td>-0.322412</td>\n",
       "      <td>0.865930</td>\n",
       "    </tr>\n",
       "    <tr>\n",
       "      <th>2</th>\n",
       "      <td>0.747389</td>\n",
       "      <td>1.957801</td>\n",
       "      <td>0.672203</td>\n",
       "    </tr>\n",
       "    <tr>\n",
       "      <th>3</th>\n",
       "      <td>0.918101</td>\n",
       "      <td>-0.058088</td>\n",
       "      <td>0.946250</td>\n",
       "    </tr>\n",
       "  </tbody>\n",
       "</table>\n",
       "</div>"
      ],
      "text/plain": [
       "          0         1         2\n",
       "0  0.036520 -1.435259  0.097399\n",
       "1 -1.035604 -0.322412  0.865930\n",
       "2  0.747389  1.957801  0.672203\n",
       "3  0.918101 -0.058088  0.946250"
      ]
     },
     "execution_count": 15,
     "metadata": {},
     "output_type": "execute_result"
    }
   ],
   "source": [
    "dataFrame"
   ]
  },
  {
   "cell_type": "code",
   "execution_count": 17,
   "id": "131532b3",
   "metadata": {},
   "outputs": [],
   "source": [
    "newDataFrame = pd.DataFrame(data,index=[\"atil\",\"zeynep\",\"atlas\",\"mehmet\"], columns=[\"maas\",\"yas\",\"calisma saati\"])"
   ]
  },
  {
   "cell_type": "code",
   "execution_count": 19,
   "id": "0c7290bd",
   "metadata": {},
   "outputs": [
    {
     "data": {
      "text/html": [
       "<div>\n",
       "<style scoped>\n",
       "    .dataframe tbody tr th:only-of-type {\n",
       "        vertical-align: middle;\n",
       "    }\n",
       "\n",
       "    .dataframe tbody tr th {\n",
       "        vertical-align: top;\n",
       "    }\n",
       "\n",
       "    .dataframe thead th {\n",
       "        text-align: right;\n",
       "    }\n",
       "</style>\n",
       "<table border=\"1\" class=\"dataframe\">\n",
       "  <thead>\n",
       "    <tr style=\"text-align: right;\">\n",
       "      <th></th>\n",
       "      <th>maas</th>\n",
       "      <th>yas</th>\n",
       "      <th>calisma saati</th>\n",
       "    </tr>\n",
       "  </thead>\n",
       "  <tbody>\n",
       "    <tr>\n",
       "      <th>atil</th>\n",
       "      <td>0.036520</td>\n",
       "      <td>-1.435259</td>\n",
       "      <td>0.097399</td>\n",
       "    </tr>\n",
       "    <tr>\n",
       "      <th>zeynep</th>\n",
       "      <td>-1.035604</td>\n",
       "      <td>-0.322412</td>\n",
       "      <td>0.865930</td>\n",
       "    </tr>\n",
       "    <tr>\n",
       "      <th>atlas</th>\n",
       "      <td>0.747389</td>\n",
       "      <td>1.957801</td>\n",
       "      <td>0.672203</td>\n",
       "    </tr>\n",
       "    <tr>\n",
       "      <th>mehmet</th>\n",
       "      <td>0.918101</td>\n",
       "      <td>-0.058088</td>\n",
       "      <td>0.946250</td>\n",
       "    </tr>\n",
       "  </tbody>\n",
       "</table>\n",
       "</div>"
      ],
      "text/plain": [
       "            maas       yas  calisma saati\n",
       "atil    0.036520 -1.435259       0.097399\n",
       "zeynep -1.035604 -0.322412       0.865930\n",
       "atlas   0.747389  1.957801       0.672203\n",
       "mehmet  0.918101 -0.058088       0.946250"
      ]
     },
     "execution_count": 19,
     "metadata": {},
     "output_type": "execute_result"
    }
   ],
   "source": [
    "newDataFrame #Yukarıda index (row) ve columns değerlerini girdiK"
   ]
  },
  {
   "cell_type": "code",
   "execution_count": 20,
   "id": "3895222b",
   "metadata": {},
   "outputs": [
    {
     "data": {
      "text/plain": [
       "atil     -1.435259\n",
       "zeynep   -0.322412\n",
       "atlas     1.957801\n",
       "mehmet   -0.058088\n",
       "Name: yas, dtype: float64"
      ]
     },
     "execution_count": 20,
     "metadata": {},
     "output_type": "execute_result"
    }
   ],
   "source": [
    "newDataFrame[\"yas\"]"
   ]
  },
  {
   "cell_type": "code",
   "execution_count": 21,
   "id": "5a34a76b",
   "metadata": {},
   "outputs": [
    {
     "data": {
      "text/plain": [
       "atil      0.097399\n",
       "zeynep    0.865930\n",
       "atlas     0.672203\n",
       "mehmet    0.946250\n",
       "Name: calisma saati, dtype: float64"
      ]
     },
     "execution_count": 21,
     "metadata": {},
     "output_type": "execute_result"
    }
   ],
   "source": [
    "newDataFrame[\"calisma saati\"]"
   ]
  },
  {
   "cell_type": "code",
   "execution_count": 24,
   "id": "7726aa16",
   "metadata": {},
   "outputs": [
    {
     "data": {
      "text/html": [
       "<div>\n",
       "<style scoped>\n",
       "    .dataframe tbody tr th:only-of-type {\n",
       "        vertical-align: middle;\n",
       "    }\n",
       "\n",
       "    .dataframe tbody tr th {\n",
       "        vertical-align: top;\n",
       "    }\n",
       "\n",
       "    .dataframe thead th {\n",
       "        text-align: right;\n",
       "    }\n",
       "</style>\n",
       "<table border=\"1\" class=\"dataframe\">\n",
       "  <thead>\n",
       "    <tr style=\"text-align: right;\">\n",
       "      <th></th>\n",
       "      <th>maas</th>\n",
       "      <th>yas</th>\n",
       "    </tr>\n",
       "  </thead>\n",
       "  <tbody>\n",
       "    <tr>\n",
       "      <th>atil</th>\n",
       "      <td>0.036520</td>\n",
       "      <td>-1.435259</td>\n",
       "    </tr>\n",
       "    <tr>\n",
       "      <th>zeynep</th>\n",
       "      <td>-1.035604</td>\n",
       "      <td>-0.322412</td>\n",
       "    </tr>\n",
       "    <tr>\n",
       "      <th>atlas</th>\n",
       "      <td>0.747389</td>\n",
       "      <td>1.957801</td>\n",
       "    </tr>\n",
       "    <tr>\n",
       "      <th>mehmet</th>\n",
       "      <td>0.918101</td>\n",
       "      <td>-0.058088</td>\n",
       "    </tr>\n",
       "  </tbody>\n",
       "</table>\n",
       "</div>"
      ],
      "text/plain": [
       "            maas       yas\n",
       "atil    0.036520 -1.435259\n",
       "zeynep -1.035604 -0.322412\n",
       "atlas   0.747389  1.957801\n",
       "mehmet  0.918101 -0.058088"
      ]
     },
     "execution_count": 24,
     "metadata": {},
     "output_type": "execute_result"
    }
   ],
   "source": [
    "newDataFrame[[\"maas\",\"yas\"]] #sadece dataFramein girilen değerilirini gösterir"
   ]
  },
  {
   "cell_type": "markdown",
   "id": "8803c318",
   "metadata": {},
   "source": [
    "### Yukarıda columns şeklinde değerleri nasıl yazılacağını gördük.\n",
    "##### Şimdi ise row şeklinde nasıl yazılacağına bakacağız\n",
    "bunun için _*loc*_ location fonksiyonu çağırılmalı"
   ]
  },
  {
   "cell_type": "code",
   "execution_count": 28,
   "id": "a9777e8c",
   "metadata": {},
   "outputs": [
    {
     "data": {
      "text/plain": [
       "maas             0.036520\n",
       "yas             -1.435259\n",
       "calisma saati    0.097399\n",
       "Name: atil, dtype: float64"
      ]
     },
     "execution_count": 28,
     "metadata": {},
     "output_type": "execute_result"
    }
   ],
   "source": [
    "newDataFrame.loc[\"atil\"] #loc func ile row yazımı"
   ]
  },
  {
   "cell_type": "markdown",
   "id": "76dd84bb",
   "metadata": {},
   "source": [
    "###### Aynı şekilde isim olarak değil de index no göre de listelenebilir\n",
    "# iloc"
   ]
  },
  {
   "cell_type": "code",
   "execution_count": 29,
   "id": "218b2f44",
   "metadata": {},
   "outputs": [
    {
     "data": {
      "text/plain": [
       "maas             0.036520\n",
       "yas             -1.435259\n",
       "calisma saati    0.097399\n",
       "Name: atil, dtype: float64"
      ]
     },
     "execution_count": 29,
     "metadata": {},
     "output_type": "execute_result"
    }
   ],
   "source": [
    "newDataFrame.iloc[0]"
   ]
  },
  {
   "cell_type": "code",
   "execution_count": null,
   "id": "d396c7f9",
   "metadata": {},
   "outputs": [],
   "source": []
  }
 ],
 "metadata": {
  "kernelspec": {
   "display_name": "Python 3 (ipykernel)",
   "language": "python",
   "name": "python3"
  },
  "language_info": {
   "codemirror_mode": {
    "name": "ipython",
    "version": 3
   },
   "file_extension": ".py",
   "mimetype": "text/x-python",
   "name": "python",
   "nbconvert_exporter": "python",
   "pygments_lexer": "ipython3",
   "version": "3.9.12"
  }
 },
 "nbformat": 4,
 "nbformat_minor": 5
}
