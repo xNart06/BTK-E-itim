{
 "cells": [
  {
   "cell_type": "code",
   "execution_count": 8,
   "id": "5c61e3eb",
   "metadata": {},
   "outputs": [
    {
     "data": {
      "text/plain": [
       "3.5"
      ]
     },
     "execution_count": 8,
     "metadata": {},
     "output_type": "execute_result"
    }
   ],
   "source": [
    "def bol(sayi):\n",
    "    return sayi/2\n",
    "\n",
    "bol(7)"
   ]
  },
  {
   "cell_type": "markdown",
   "id": "2439df5f",
   "metadata": {},
   "source": [
    "###### Bir liste oluşturup o listedeki her elemanı 2ye bölüp yeni listeye eklicez"
   ]
  },
  {
   "cell_type": "code",
   "execution_count": 9,
   "id": "f288c3a2",
   "metadata": {},
   "outputs": [],
   "source": [
    "liste = [1,2,3,4,5,6,7,8]\n",
    "yeniListe= []\n",
    "for i in liste:\n",
    "    yeniListe.append(bol(i))"
   ]
  },
  {
   "cell_type": "code",
   "execution_count": 15,
   "id": "01dab867",
   "metadata": {},
   "outputs": [
    {
     "data": {
      "text/plain": [
       "[0.5, 1.0, 1.5, 2.0, 2.5, 3.0, 3.5, 4.0]"
      ]
     },
     "execution_count": 15,
     "metadata": {},
     "output_type": "execute_result"
    }
   ],
   "source": [
    "yeniListe"
   ]
  },
  {
   "cell_type": "markdown",
   "id": "f3bdddd1",
   "metadata": {},
   "source": [
    "# Önemli Fonksiyonlar\n",
    "## *map()"
   ]
  },
  {
   "cell_type": "code",
   "execution_count": 17,
   "id": "2432f9dc",
   "metadata": {},
   "outputs": [
    {
     "data": {
      "text/plain": [
       "<map at 0x29316254a90>"
      ]
     },
     "execution_count": 17,
     "metadata": {},
     "output_type": "execute_result"
    }
   ],
   "source": [
    "map(bol, liste)\n",
    "#Çıkan değer Ram adresi"
   ]
  },
  {
   "cell_type": "code",
   "execution_count": 18,
   "id": "a522293b",
   "metadata": {},
   "outputs": [
    {
     "data": {
      "text/plain": [
       "[0.5, 1.0, 1.5, 2.0, 2.5, 3.0, 3.5, 4.0]"
      ]
     },
     "execution_count": 18,
     "metadata": {},
     "output_type": "execute_result"
    }
   ],
   "source": [
    "list(map(bol, liste))"
   ]
  },
  {
   "cell_type": "code",
   "execution_count": 31,
   "id": "69cecc0b",
   "metadata": {},
   "outputs": [],
   "source": [
    "def kontrolEt(string):\n",
    "    return \"a\" in string"
   ]
  },
  {
   "cell_type": "code",
   "execution_count": 32,
   "id": "c41f8192",
   "metadata": {},
   "outputs": [],
   "source": [
    "list2 = [\"at\",\"araba\",\"meyve\",\"satır\"]"
   ]
  },
  {
   "cell_type": "code",
   "execution_count": 43,
   "id": "6a8d73b0",
   "metadata": {},
   "outputs": [
    {
     "data": {
      "text/plain": [
       "[True, True, False, True]"
      ]
     },
     "execution_count": 43,
     "metadata": {},
     "output_type": "execute_result"
    }
   ],
   "source": [
    "sonuc = list(map(kontrolEt, list2))\n",
    "sonuc"
   ]
  },
  {
   "cell_type": "markdown",
   "id": "888dcc37",
   "metadata": {},
   "source": [
    "### count() saymak için kullanılır"
   ]
  },
  {
   "cell_type": "code",
   "execution_count": 40,
   "id": "801a02cd",
   "metadata": {},
   "outputs": [
    {
     "data": {
      "text/plain": [
       "3"
      ]
     },
     "execution_count": 40,
     "metadata": {},
     "output_type": "execute_result"
    }
   ],
   "source": [
    "sonuc.count(True) #True değerlerini say"
   ]
  },
  {
   "cell_type": "markdown",
   "id": "0fed39f8",
   "metadata": {},
   "source": [
    "### filter()"
   ]
  },
  {
   "cell_type": "code",
   "execution_count": 44,
   "id": "f8b0f318",
   "metadata": {},
   "outputs": [
    {
     "data": {
      "text/plain": [
       "['at', 'araba', 'satır']"
      ]
     },
     "execution_count": 44,
     "metadata": {},
     "output_type": "execute_result"
    }
   ],
   "source": [
    "list(filter(kontrolEt, list2)) #map gibi kullanılıp True olan içeriği basıyor"
   ]
  },
  {
   "cell_type": "markdown",
   "id": "90424f68",
   "metadata": {},
   "source": [
    "### lambda = tek satırda fonksiyon tanımlamak"
   ]
  },
  {
   "cell_type": "code",
   "execution_count": 45,
   "id": "84447924",
   "metadata": {},
   "outputs": [],
   "source": [
    "carp = lambda num : num * 3"
   ]
  },
  {
   "cell_type": "code",
   "execution_count": 46,
   "id": "f461f099",
   "metadata": {},
   "outputs": [
    {
     "data": {
      "text/plain": [
       "30"
      ]
     },
     "execution_count": 46,
     "metadata": {},
     "output_type": "execute_result"
    }
   ],
   "source": [
    "carp(10)"
   ]
  },
  {
   "cell_type": "code",
   "execution_count": null,
   "id": "84005309",
   "metadata": {},
   "outputs": [],
   "source": []
  }
 ],
 "metadata": {
  "kernelspec": {
   "display_name": "Python 3 (ipykernel)",
   "language": "python",
   "name": "python3"
  },
  "language_info": {
   "codemirror_mode": {
    "name": "ipython",
    "version": 3
   },
   "file_extension": ".py",
   "mimetype": "text/x-python",
   "name": "python",
   "nbconvert_exporter": "python",
   "pygments_lexer": "ipython3",
   "version": "3.9.12"
  }
 },
 "nbformat": 4,
 "nbformat_minor": 5
}
