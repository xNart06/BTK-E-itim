{
 "cells": [
  {
   "cell_type": "markdown",
   "id": "08212939",
   "metadata": {},
   "source": [
    "# NUMPY-3"
   ]
  },
  {
   "cell_type": "code",
   "execution_count": 1,
   "id": "396093a9",
   "metadata": {},
   "outputs": [],
   "source": [
    "import numpy as np"
   ]
  },
  {
   "cell_type": "code",
   "execution_count": 2,
   "id": "fdadc027",
   "metadata": {},
   "outputs": [],
   "source": [
    "myArr = np.arange(0,15)"
   ]
  },
  {
   "cell_type": "code",
   "execution_count": 4,
   "id": "7fae11f2",
   "metadata": {},
   "outputs": [
    {
     "data": {
      "text/plain": [
       "array([ 0,  1,  2,  3,  4,  5,  6,  7,  8,  9, 10, 11, 12, 13, 14])"
      ]
     },
     "execution_count": 4,
     "metadata": {},
     "output_type": "execute_result"
    }
   ],
   "source": [
    "myArr"
   ]
  },
  {
   "cell_type": "code",
   "execution_count": 5,
   "id": "4eb85030",
   "metadata": {},
   "outputs": [
    {
     "data": {
      "text/plain": [
       "5"
      ]
     },
     "execution_count": 5,
     "metadata": {},
     "output_type": "execute_result"
    }
   ],
   "source": [
    "myArr[5]"
   ]
  },
  {
   "cell_type": "code",
   "execution_count": 6,
   "id": "77170b71",
   "metadata": {},
   "outputs": [
    {
     "data": {
      "text/plain": [
       "array([3, 4])"
      ]
     },
     "execution_count": 6,
     "metadata": {},
     "output_type": "execute_result"
    }
   ],
   "source": [
    "myArr[3:5]"
   ]
  },
  {
   "cell_type": "code",
   "execution_count": 9,
   "id": "e9e17588",
   "metadata": {},
   "outputs": [],
   "source": [
    "myArr[3:8] = -5 #aradaki değerleri değiştirdik"
   ]
  },
  {
   "cell_type": "code",
   "execution_count": 10,
   "id": "3ad8e1fe",
   "metadata": {},
   "outputs": [
    {
     "data": {
      "text/plain": [
       "array([ 0,  1,  2, -5, -5, -5, -5, -5,  8,  9, 10, 11, 12, 13, 14])"
      ]
     },
     "execution_count": 10,
     "metadata": {},
     "output_type": "execute_result"
    }
   ],
   "source": [
    "myArr"
   ]
  },
  {
   "cell_type": "code",
   "execution_count": 11,
   "id": "66a05286",
   "metadata": {},
   "outputs": [],
   "source": [
    "otherArr = np.arange(0,24)"
   ]
  },
  {
   "cell_type": "code",
   "execution_count": 12,
   "id": "f0345973",
   "metadata": {},
   "outputs": [
    {
     "data": {
      "text/plain": [
       "array([ 0,  1,  2,  3,  4,  5,  6,  7,  8,  9, 10, 11, 12, 13, 14, 15, 16,\n",
       "       17, 18, 19, 20, 21, 22, 23])"
      ]
     },
     "execution_count": 12,
     "metadata": {},
     "output_type": "execute_result"
    }
   ],
   "source": [
    "otherArr"
   ]
  },
  {
   "cell_type": "code",
   "execution_count": 15,
   "id": "2c5d2113",
   "metadata": {},
   "outputs": [],
   "source": [
    "slicingArr = otherArr[4:9] #other dizisindeki belirtilen aralık değerleri diğer diziye yazıldı"
   ]
  },
  {
   "cell_type": "code",
   "execution_count": 16,
   "id": "e346d2c6",
   "metadata": {},
   "outputs": [
    {
     "data": {
      "text/plain": [
       "array([4, 5, 6, 7, 8])"
      ]
     },
     "execution_count": 16,
     "metadata": {},
     "output_type": "execute_result"
    }
   ],
   "source": [
    "slicingArr"
   ]
  },
  {
   "cell_type": "code",
   "execution_count": 19,
   "id": "c871d512",
   "metadata": {},
   "outputs": [],
   "source": [
    "slicingArr[:] = 0 #dizi içindeki tüm değerleri değiştirdik"
   ]
  },
  {
   "cell_type": "code",
   "execution_count": 20,
   "id": "2e8f2216",
   "metadata": {},
   "outputs": [
    {
     "data": {
      "text/plain": [
       "array([0, 0, 0, 0, 0])"
      ]
     },
     "execution_count": 20,
     "metadata": {},
     "output_type": "execute_result"
    }
   ],
   "source": [
    "slicingArr"
   ]
  },
  {
   "cell_type": "code",
   "execution_count": 23,
   "id": "b2a01201",
   "metadata": {},
   "outputs": [
    {
     "data": {
      "text/plain": [
       "array([ 0,  1,  2,  3,  0,  0,  0,  0,  0,  9, 10, 11, 12, 13, 14, 15, 16,\n",
       "       17, 18, 19, 20, 21, 22, 23])"
      ]
     },
     "execution_count": 23,
     "metadata": {},
     "output_type": "execute_result"
    }
   ],
   "source": [
    "otherArr #slicing dizinde değişim yapmama rağmen değişiklik other dizisine de etki etmiş"
   ]
  },
  {
   "cell_type": "markdown",
   "id": "770c0dd2",
   "metadata": {},
   "source": [
    "**********************************\n",
    "Peki bu durumu nasıl düzelteceğiz??"
   ]
  },
  {
   "cell_type": "code",
   "execution_count": 24,
   "id": "329d9caf",
   "metadata": {},
   "outputs": [],
   "source": [
    "exArr = np.arange(0,24)"
   ]
  },
  {
   "cell_type": "code",
   "execution_count": 26,
   "id": "85e49c73",
   "metadata": {},
   "outputs": [
    {
     "data": {
      "text/plain": [
       "array([ 0,  1,  2,  3,  4,  5,  6,  7,  8,  9, 10, 11, 12, 13, 14, 15, 16,\n",
       "       17, 18, 19, 20, 21, 22, 23])"
      ]
     },
     "execution_count": 26,
     "metadata": {},
     "output_type": "execute_result"
    }
   ],
   "source": [
    "exArr"
   ]
  },
  {
   "cell_type": "code",
   "execution_count": 27,
   "id": "09c8dcbe",
   "metadata": {},
   "outputs": [],
   "source": [
    "exArrCopy = exArr.copy() #exArr dizisini exArrCopy'ye kopyaladık"
   ]
  },
  {
   "cell_type": "code",
   "execution_count": 28,
   "id": "18aa5e78",
   "metadata": {},
   "outputs": [
    {
     "data": {
      "text/plain": [
       "array([ 0,  1,  2,  3,  4,  5,  6,  7,  8,  9, 10, 11, 12, 13, 14, 15, 16,\n",
       "       17, 18, 19, 20, 21, 22, 23])"
      ]
     },
     "execution_count": 28,
     "metadata": {},
     "output_type": "execute_result"
    }
   ],
   "source": [
    "exArr"
   ]
  },
  {
   "cell_type": "code",
   "execution_count": 34,
   "id": "d0df598d",
   "metadata": {},
   "outputs": [],
   "source": [
    "exArrCopySlicing = exArrCopy[3:6] #kopya diziyi yeni bir diziye atadık "
   ]
  },
  {
   "cell_type": "code",
   "execution_count": 35,
   "id": "05dcea9c",
   "metadata": {},
   "outputs": [],
   "source": [
    "exArrCopySlicing[:] = 800"
   ]
  },
  {
   "cell_type": "code",
   "execution_count": 39,
   "id": "144066a2",
   "metadata": {},
   "outputs": [
    {
     "data": {
      "text/plain": [
       "array([800, 800, 800])"
      ]
     },
     "execution_count": 39,
     "metadata": {},
     "output_type": "execute_result"
    }
   ],
   "source": [
    "exArrCopySlicing #slicing dizinde değişti"
   ]
  },
  {
   "cell_type": "code",
   "execution_count": 40,
   "id": "de71c02d",
   "metadata": {},
   "outputs": [
    {
     "data": {
      "text/plain": [
       "array([  0,   1,   2, 800, 800, 800,   6,   7,   8,   9,  10,  11,  12,\n",
       "        13,  14,  15,  16,  17,  18,  19,  20,  21,  22,  23])"
      ]
     },
     "execution_count": 40,
     "metadata": {},
     "output_type": "execute_result"
    }
   ],
   "source": [
    "exArrCopy #kopya dizide değerleri değiştirdik "
   ]
  },
  {
   "cell_type": "code",
   "execution_count": 41,
   "id": "8ad56f2e",
   "metadata": {},
   "outputs": [
    {
     "data": {
      "text/plain": [
       "array([ 0,  1,  2,  3,  4,  5,  6,  7,  8,  9, 10, 11, 12, 13, 14, 15, 16,\n",
       "       17, 18, 19, 20, 21, 22, 23])"
      ]
     },
     "execution_count": 41,
     "metadata": {},
     "output_type": "execute_result"
    }
   ],
   "source": [
    "exArr #main dizide değerler değişmedi"
   ]
  },
  {
   "cell_type": "markdown",
   "id": "82793dfe",
   "metadata": {},
   "source": [
    "#### Dizi değerlerini değiştirmek için ekstra 2 diziye ve \"_copy()_\" kopyasına ihtiyacımız var"
   ]
  }
 ],
 "metadata": {
  "kernelspec": {
   "display_name": "Python 3 (ipykernel)",
   "language": "python",
   "name": "python3"
  },
  "language_info": {
   "codemirror_mode": {
    "name": "ipython",
    "version": 3
   },
   "file_extension": ".py",
   "mimetype": "text/x-python",
   "name": "python",
   "nbconvert_exporter": "python",
   "pygments_lexer": "ipython3",
   "version": "3.9.12"
  }
 },
 "nbformat": 4,
 "nbformat_minor": 5
}
