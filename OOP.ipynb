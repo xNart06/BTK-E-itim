{
 "cells": [
  {
   "cell_type": "markdown",
   "id": "0787cda2",
   "metadata": {},
   "source": [
    "# OBJECT ORIENTED PROGRAMMING (OOP) "
   ]
  },
  {
   "cell_type": "markdown",
   "id": "9d25c1f1",
   "metadata": {},
   "source": [
    "## instance && attribute"
   ]
  },
  {
   "cell_type": "code",
   "execution_count": 34,
   "id": "ab1846d5",
   "metadata": {},
   "outputs": [],
   "source": [
    "class SuperHero():\n",
    "    def __init__(self,isimInput,yasInput,meslekInput): #başlatma fonksiyonu\n",
    "        print(\"say Hi\")\n",
    "        self.isim = isimInput\n",
    "        self.yas = yasInput\n",
    "        self.meslek = meslekInput\n",
    "    \n",
    "    def ornek(self):\n",
    "        print(f\"said Hii {self.meslek}\") #self her daim kullanılmak zorunda. Aksi takdirde erişim sağlanamaz\n"
   ]
  },
  {
   "cell_type": "code",
   "execution_count": 35,
   "id": "fd42bde3",
   "metadata": {},
   "outputs": [
    {
     "name": "stdout",
     "output_type": "stream",
     "text": [
      "say Hi\n",
      "say Hi\n"
     ]
    }
   ],
   "source": [
    "batman = SuperHero(\"Batman\",30,\"Marangoz\")\n",
    "superman = SuperHero(\"superman\", 20, \"gazeteci\")"
   ]
  },
  {
   "cell_type": "code",
   "execution_count": 36,
   "id": "4b8ab174",
   "metadata": {},
   "outputs": [
    {
     "data": {
      "text/plain": [
       "'Batman'"
      ]
     },
     "execution_count": 36,
     "metadata": {},
     "output_type": "execute_result"
    }
   ],
   "source": [
    "batman.isim"
   ]
  },
  {
   "cell_type": "code",
   "execution_count": 37,
   "id": "8c56c78c",
   "metadata": {},
   "outputs": [
    {
     "data": {
      "text/plain": [
       "30"
      ]
     },
     "execution_count": 37,
     "metadata": {},
     "output_type": "execute_result"
    }
   ],
   "source": [
    "batman.yas"
   ]
  },
  {
   "cell_type": "code",
   "execution_count": 38,
   "id": "2f65dafc",
   "metadata": {
    "scrolled": true
   },
   "outputs": [
    {
     "data": {
      "text/plain": [
       "'Marangoz'"
      ]
     },
     "execution_count": 38,
     "metadata": {},
     "output_type": "execute_result"
    }
   ],
   "source": [
    "batman.meslek"
   ]
  },
  {
   "cell_type": "code",
   "execution_count": 39,
   "id": "de972296",
   "metadata": {},
   "outputs": [
    {
     "data": {
      "text/plain": [
       "'gazeteci'"
      ]
     },
     "execution_count": 39,
     "metadata": {},
     "output_type": "execute_result"
    }
   ],
   "source": [
    "superman.meslek"
   ]
  },
  {
   "cell_type": "code",
   "execution_count": 32,
   "id": "8a036765",
   "metadata": {},
   "outputs": [
    {
     "name": "stdout",
     "output_type": "stream",
     "text": [
      "said Hii gazeteci\n"
     ]
    }
   ],
   "source": [
    "superman.ornek()"
   ]
  },
  {
   "cell_type": "code",
   "execution_count": 46,
   "id": "a9666841",
   "metadata": {},
   "outputs": [],
   "source": [
    "class Kopek():\n",
    "    \n",
    "    def __init__(self,yas=5): #değer verilmemesi durumuna karşı değeri biz veriyoruz\n",
    "        self.yas = yas        #dışardan değer girersek bu durum değişir"
   ]
  },
  {
   "cell_type": "code",
   "execution_count": 47,
   "id": "2c2db197",
   "metadata": {},
   "outputs": [],
   "source": [
    "benimKopek = Kopek()"
   ]
  },
  {
   "cell_type": "code",
   "execution_count": 48,
   "id": "72a92b75",
   "metadata": {},
   "outputs": [
    {
     "data": {
      "text/plain": [
       "5"
      ]
     },
     "execution_count": 48,
     "metadata": {},
     "output_type": "execute_result"
    }
   ],
   "source": [
    "benimKopek.yas"
   ]
  }
 ],
 "metadata": {
  "kernelspec": {
   "display_name": "Python 3 (ipykernel)",
   "language": "python",
   "name": "python3"
  },
  "language_info": {
   "codemirror_mode": {
    "name": "ipython",
    "version": 3
   },
   "file_extension": ".py",
   "mimetype": "text/x-python",
   "name": "python",
   "nbconvert_exporter": "python",
   "pygments_lexer": "ipython3",
   "version": "3.9.12"
  }
 },
 "nbformat": 4,
 "nbformat_minor": 5
}
