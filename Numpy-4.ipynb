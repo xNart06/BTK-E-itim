{
 "cells": [
  {
   "cell_type": "markdown",
   "id": "1ff32787",
   "metadata": {},
   "source": [
    "# NUMPY-4"
   ]
  },
  {
   "cell_type": "code",
   "execution_count": 2,
   "id": "f32835c1",
   "metadata": {},
   "outputs": [],
   "source": [
    "import numpy as np"
   ]
  },
  {
   "cell_type": "markdown",
   "id": "8663568d",
   "metadata": {},
   "source": [
    "##### Matrix indexleri"
   ]
  },
  {
   "cell_type": "code",
   "execution_count": 3,
   "id": "7643e24b",
   "metadata": {},
   "outputs": [],
   "source": [
    "myList = [[10,20,30],[20,30,40],[40,50,60]]"
   ]
  },
  {
   "cell_type": "code",
   "execution_count": 4,
   "id": "57943f58",
   "metadata": {},
   "outputs": [],
   "source": [
    "myMatrix = np.array(myList)"
   ]
  },
  {
   "cell_type": "code",
   "execution_count": 5,
   "id": "224f33ef",
   "metadata": {},
   "outputs": [
    {
     "data": {
      "text/plain": [
       "array([[10, 20, 30],\n",
       "       [20, 30, 40],\n",
       "       [40, 50, 60]])"
      ]
     },
     "execution_count": 5,
     "metadata": {},
     "output_type": "execute_result"
    }
   ],
   "source": [
    "myMatrix"
   ]
  },
  {
   "cell_type": "code",
   "execution_count": 6,
   "id": "38608f3a",
   "metadata": {},
   "outputs": [
    {
     "data": {
      "text/plain": [
       "array([10, 20, 30])"
      ]
     },
     "execution_count": 6,
     "metadata": {},
     "output_type": "execute_result"
    }
   ],
   "source": [
    "myMatrix[0]"
   ]
  },
  {
   "cell_type": "code",
   "execution_count": 11,
   "id": "eaa09a09",
   "metadata": {},
   "outputs": [
    {
     "data": {
      "text/plain": [
       "20"
      ]
     },
     "execution_count": 11,
     "metadata": {},
     "output_type": "execute_result"
    }
   ],
   "source": [
    "myMatrix[0][1] #matrix dizisi veri çekme"
   ]
  },
  {
   "cell_type": "code",
   "execution_count": 12,
   "id": "6f4968b7",
   "metadata": {},
   "outputs": [
    {
     "data": {
      "text/plain": [
       "30"
      ]
     },
     "execution_count": 12,
     "metadata": {},
     "output_type": "execute_result"
    }
   ],
   "source": [
    "myMatrix[1][1]"
   ]
  },
  {
   "cell_type": "code",
   "execution_count": 14,
   "id": "5e23d110",
   "metadata": {},
   "outputs": [
    {
     "data": {
      "text/plain": [
       "30"
      ]
     },
     "execution_count": 14,
     "metadata": {},
     "output_type": "execute_result"
    }
   ],
   "source": [
    "myMatrix[1,1] #[1][1] ile aynı anlamda"
   ]
  },
  {
   "cell_type": "code",
   "execution_count": 16,
   "id": "15148db1",
   "metadata": {},
   "outputs": [
    {
     "data": {
      "text/plain": [
       "array([40, 60])"
      ]
     },
     "execution_count": 16,
     "metadata": {},
     "output_type": "execute_result"
    }
   ],
   "source": [
    "myMatrix[1:,2] #x'i index numarası 1ve 2 olan değerleri aldık ve sonra so değeri çağırdık"
   ]
  },
  {
   "cell_type": "code",
   "execution_count": 18,
   "id": "7872f8cf",
   "metadata": {},
   "outputs": [
    {
     "data": {
      "text/plain": [
       "array([[10, 20, 30],\n",
       "       [20, 30, 40],\n",
       "       [40, 50, 60]])"
      ]
     },
     "execution_count": 18,
     "metadata": {},
     "output_type": "execute_result"
    }
   ],
   "source": [
    "myMatrix #yukarda bahsedilen şey 40 60 sonra 2 satırın son 2 sütunu"
   ]
  },
  {
   "cell_type": "markdown",
   "id": "0fef66ad",
   "metadata": {},
   "source": [
    "## operations"
   ]
  },
  {
   "cell_type": "code",
   "execution_count": 21,
   "id": "7d979cf9",
   "metadata": {},
   "outputs": [],
   "source": [
    "newArr = np.random.randint(1,100,20)"
   ]
  },
  {
   "cell_type": "code",
   "execution_count": 22,
   "id": "2830e544",
   "metadata": {},
   "outputs": [
    {
     "data": {
      "text/plain": [
       "array([29, 64, 98, 29, 20, 29, 16, 41, 83, 75, 32, 64, 97, 87,  8, 70, 59,\n",
       "       33, 71, 87])"
      ]
     },
     "execution_count": 22,
     "metadata": {},
     "output_type": "execute_result"
    }
   ],
   "source": [
    "newArr"
   ]
  },
  {
   "cell_type": "code",
   "execution_count": 23,
   "id": "15c46450",
   "metadata": {},
   "outputs": [
    {
     "data": {
      "text/plain": [
       "array([ True,  True,  True,  True, False,  True, False,  True,  True,\n",
       "        True,  True,  True,  True,  True, False,  True,  True,  True,\n",
       "        True,  True])"
      ]
     },
     "execution_count": 23,
     "metadata": {},
     "output_type": "execute_result"
    }
   ],
   "source": [
    "newArr > 24 #24 den büyük elemanları boolen döndürür"
   ]
  },
  {
   "cell_type": "code",
   "execution_count": 24,
   "id": "412525b9",
   "metadata": {},
   "outputs": [],
   "source": [
    "sonuc = newArr > 24"
   ]
  },
  {
   "cell_type": "code",
   "execution_count": 25,
   "id": "2e351a5a",
   "metadata": {},
   "outputs": [
    {
     "data": {
      "text/plain": [
       "array([ True,  True,  True,  True, False,  True, False,  True,  True,\n",
       "        True,  True,  True,  True,  True, False,  True,  True,  True,\n",
       "        True,  True])"
      ]
     },
     "execution_count": 25,
     "metadata": {},
     "output_type": "execute_result"
    }
   ],
   "source": [
    "sonuc"
   ]
  },
  {
   "cell_type": "code",
   "execution_count": 27,
   "id": "971da705",
   "metadata": {},
   "outputs": [
    {
     "data": {
      "text/plain": [
       "array([29, 64, 98, 29, 29, 41, 83, 75, 32, 64, 97, 87, 70, 59, 33, 71, 87])"
      ]
     },
     "execution_count": 27,
     "metadata": {},
     "output_type": "execute_result"
    }
   ],
   "source": [
    "newArr[sonuc] #24den büyük sayıları listeledi sadece"
   ]
  },
  {
   "cell_type": "code",
   "execution_count": 28,
   "id": "bb8e9aea",
   "metadata": {},
   "outputs": [
    {
     "data": {
      "text/plain": [
       "array([ 58, 128, 196,  58,  40,  58,  32,  82, 166, 150,  64, 128, 194,\n",
       "       174,  16, 140, 118,  66, 142, 174])"
      ]
     },
     "execution_count": 28,
     "metadata": {},
     "output_type": "execute_result"
    }
   ],
   "source": [
    "newArr + newArr"
   ]
  },
  {
   "cell_type": "code",
   "execution_count": 29,
   "id": "13863656",
   "metadata": {},
   "outputs": [
    {
     "data": {
      "text/plain": [
       "array([0, 0, 0, 0, 0, 0, 0, 0, 0, 0, 0, 0, 0, 0, 0, 0, 0, 0, 0, 0])"
      ]
     },
     "execution_count": 29,
     "metadata": {},
     "output_type": "execute_result"
    }
   ],
   "source": [
    "newArr - newArr"
   ]
  },
  {
   "cell_type": "code",
   "execution_count": 30,
   "id": "7665d2e2",
   "metadata": {},
   "outputs": [
    {
     "data": {
      "text/plain": [
       "array([ 841, 4096, 9604,  841,  400,  841,  256, 1681, 6889, 5625, 1024,\n",
       "       4096, 9409, 7569,   64, 4900, 3481, 1089, 5041, 7569])"
      ]
     },
     "execution_count": 30,
     "metadata": {},
     "output_type": "execute_result"
    }
   ],
   "source": [
    "newArr * newArr"
   ]
  },
  {
   "cell_type": "code",
   "execution_count": 32,
   "id": "e9156d0d",
   "metadata": {},
   "outputs": [
    {
     "data": {
      "text/plain": [
       "array([5.38516481, 8.        , 9.89949494, 5.38516481, 4.47213595,\n",
       "       5.38516481, 4.        , 6.40312424, 9.11043358, 8.66025404,\n",
       "       5.65685425, 8.        , 9.8488578 , 9.32737905, 2.82842712,\n",
       "       8.36660027, 7.68114575, 5.74456265, 8.42614977, 9.32737905])"
      ]
     },
     "execution_count": 32,
     "metadata": {},
     "output_type": "execute_result"
    }
   ],
   "source": [
    "np.sqrt(newArr) #karekök"
   ]
  },
  {
   "cell_type": "code",
   "execution_count": 33,
   "id": "0e4a079e",
   "metadata": {},
   "outputs": [
    {
     "data": {
      "text/plain": [
       "98"
      ]
     },
     "execution_count": 33,
     "metadata": {},
     "output_type": "execute_result"
    }
   ],
   "source": [
    "np.max(newArr)"
   ]
  },
  {
   "cell_type": "code",
   "execution_count": 34,
   "id": "33ade19a",
   "metadata": {},
   "outputs": [
    {
     "data": {
      "text/plain": [
       "8"
      ]
     },
     "execution_count": 34,
     "metadata": {},
     "output_type": "execute_result"
    }
   ],
   "source": [
    "np.min(newArr)"
   ]
  },
  {
   "cell_type": "code",
   "execution_count": null,
   "id": "429cdc04",
   "metadata": {},
   "outputs": [],
   "source": []
  }
 ],
 "metadata": {
  "kernelspec": {
   "display_name": "Python 3 (ipykernel)",
   "language": "python",
   "name": "python3"
  },
  "language_info": {
   "codemirror_mode": {
    "name": "ipython",
    "version": 3
   },
   "file_extension": ".py",
   "mimetype": "text/x-python",
   "name": "python",
   "nbconvert_exporter": "python",
   "pygments_lexer": "ipython3",
   "version": "3.9.12"
  }
 },
 "nbformat": 4,
 "nbformat_minor": 5
}
